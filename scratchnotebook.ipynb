{
 "cells": [
  {
   "cell_type": "code",
   "execution_count": 21,
   "id": "882d6fcd-7ac1-4aea-8f46-af9572e38010",
   "metadata": {},
   "outputs": [
    {
     "name": "stdout",
     "output_type": "stream",
     "text": [
      "The autoreload extension is already loaded. To reload it, use:\n",
      "  %reload_ext autoreload\n"
     ]
    }
   ],
   "source": [
    "%load_ext autoreload\n",
    "# reloads the file constantly so you don't need to reset\n",
    "%autoreload 2"
   ]
  },
  {
   "cell_type": "code",
   "execution_count": 5,
   "id": "b4ef157f-bdc8-4e8a-baca-a2332ada24fd",
   "metadata": {},
   "outputs": [],
   "source": [
    "%reload_ext autoreload"
   ]
  },
  {
   "cell_type": "code",
   "execution_count": 2,
   "id": "55468272-2aaa-4143-930c-332127675003",
   "metadata": {},
   "outputs": [],
   "source": [
    "# import the libraries\n",
    "from cluster import (\n",
    "    KMeans, \n",
    "    Silhouette, \n",
    "    make_clusters,\n",
    "    plot_clusters,\n",
    "    plot_multipanel)\n",
    "import numpy as np\n",
    "from scipy.spatial.distance import cdist"
   ]
  },
  {
   "cell_type": "code",
   "execution_count": 10,
   "id": "e46212b9-1ece-40e9-84e6-8115c004d135",
   "metadata": {},
   "outputs": [
    {
     "data": {
      "text/plain": [
       "['__annotations__',\n",
       " '__call__',\n",
       " '__class__',\n",
       " '__closure__',\n",
       " '__code__',\n",
       " '__defaults__',\n",
       " '__delattr__',\n",
       " '__dict__',\n",
       " '__dir__',\n",
       " '__doc__',\n",
       " '__eq__',\n",
       " '__format__',\n",
       " '__ge__',\n",
       " '__get__',\n",
       " '__getattribute__',\n",
       " '__globals__',\n",
       " '__gt__',\n",
       " '__hash__',\n",
       " '__init__',\n",
       " '__init_subclass__',\n",
       " '__kwdefaults__',\n",
       " '__le__',\n",
       " '__lt__',\n",
       " '__module__',\n",
       " '__name__',\n",
       " '__ne__',\n",
       " '__new__',\n",
       " '__qualname__',\n",
       " '__reduce__',\n",
       " '__reduce_ex__',\n",
       " '__repr__',\n",
       " '__setattr__',\n",
       " '__sizeof__',\n",
       " '__str__',\n",
       " '__subclasshook__']"
      ]
     },
     "execution_count": 10,
     "metadata": {},
     "output_type": "execute_result"
    }
   ],
   "source": [
    "dir(plot_clusters)"
   ]
  },
  {
   "cell_type": "code",
   "execution_count": 3,
   "id": "da9fd9bb-8056-44cb-919c-40506cd1e86d",
   "metadata": {},
   "outputs": [
    {
     "data": {
      "text/plain": [
       "array([1, 1, 1, 1, 1, 1, 1, 1, 1, 1, 1, 1, 1, 1, 1, 1, 1, 1, 1, 1, 1, 1,\n",
       "       1, 1, 1, 1, 1, 1, 1, 1, 1, 1, 1, 1, 1, 1, 1, 1, 1, 1, 1, 1, 1, 1,\n",
       "       1, 1, 1, 1, 1, 1, 1, 1, 1, 1, 1, 1, 1, 1, 1, 1, 1, 1, 1, 1, 1, 1,\n",
       "       1, 1, 1, 1, 1, 1, 1, 1, 1, 1, 1, 1, 1, 1, 1, 1, 1, 1, 1, 1, 1, 1,\n",
       "       1, 1, 1, 1, 1, 1, 1, 1, 1, 1, 1, 1, 1, 1, 1, 1, 1, 1, 1, 1, 1, 1,\n",
       "       1, 1, 1, 1, 1, 1, 1, 1, 1, 1, 1, 1, 1, 1, 1, 1, 1, 1, 1, 1, 1, 1,\n",
       "       1, 1, 1, 1, 1, 1, 1, 1, 1, 1, 1, 1, 1, 1, 1, 1, 1, 1, 1, 1, 1, 1,\n",
       "       1, 1, 1, 1, 1, 1, 1, 1, 1, 1, 1, 1, 1, 1, 0, 0, 0, 0, 0, 0, 0, 0,\n",
       "       0, 0, 0, 0, 0, 0, 0, 0, 0, 0, 0, 0, 0, 0, 0, 0, 0, 0, 0, 0, 0, 0,\n",
       "       0, 0, 0, 0, 0, 0, 0, 0, 0, 0, 0, 0, 0, 0, 0, 0, 0, 0, 0, 0, 0, 0,\n",
       "       0, 0, 0, 0, 0, 0, 0, 0, 0, 0, 0, 0, 0, 0, 0, 0, 0, 0, 0, 0, 0, 0,\n",
       "       0, 0, 0, 0, 0, 0, 0, 0, 0, 0, 0, 0, 0, 0, 0, 0, 0, 0, 0, 0, 0, 0,\n",
       "       0, 0, 0, 0, 0, 0, 0, 0, 0, 0, 0, 0, 0, 0, 0, 0, 0, 0, 0, 0, 0, 0,\n",
       "       0, 0, 0, 0, 0, 0, 0, 0, 0, 0, 0, 0, 0, 0, 0, 0, 0, 0, 0, 0, 0, 0,\n",
       "       0, 0, 0, 0, 0, 0, 0, 0, 0, 0, 0, 0, 0, 0, 0, 0, 0, 0, 0, 0, 0, 0,\n",
       "       0, 0, 0, 0, 0, 0, 0, 0, 0, 0, 0, 0, 0, 0, 0, 0, 0, 0, 0, 0, 0, 0,\n",
       "       0, 0, 0, 0, 0, 0, 0, 0, 0, 0, 0, 0, 0, 0, 0, 0, 0, 0, 0, 0, 0, 0,\n",
       "       0, 0, 0, 0, 0, 0, 0, 0, 0, 0, 0, 0, 0, 0, 0, 0, 0, 0, 0, 0, 0, 0,\n",
       "       0, 0, 0, 0, 0, 0, 0, 0, 0, 0, 0, 0, 0, 0, 0, 0, 0, 0, 0, 0, 0, 0,\n",
       "       0, 0, 0, 0, 0, 0, 0, 0, 0, 0, 0, 0, 0, 0, 0, 0, 0, 0, 0, 0, 0, 0,\n",
       "       0, 0, 0, 0, 0, 0, 0, 0, 0, 0, 0, 0, 0, 0, 0, 0, 0, 0, 0, 0, 0, 0,\n",
       "       0, 0, 0, 0, 0, 0, 0, 0, 0, 0, 0, 0, 0, 0, 0, 0, 0, 0, 0, 0, 0, 0,\n",
       "       0, 0, 0, 0, 0, 0, 0, 0, 0, 0, 0, 0, 0, 0, 0, 0])"
      ]
     },
     "execution_count": 3,
     "metadata": {},
     "output_type": "execute_result"
    }
   ],
   "source": [
    "# read in an np array\n",
    "mat,labels = make_clusters()\n",
    "# kmeans\n",
    "kmean = KMeans(k=2)\n",
    "KMeans.fit(kmean, mat)\n",
    "\n",
    "pred = kmean.predict(mat)\n",
    "pred"
   ]
  },
  {
   "cell_type": "code",
   "execution_count": 12,
   "id": "1ece2321-21b9-4762-a868-f9ff04c250ea",
   "metadata": {},
   "outputs": [
    {
     "data": {
      "text/plain": [
       "array([[-9.74961184,  8.73300902],\n",
       "       [ 1.90571667,  1.68018456]])"
      ]
     },
     "execution_count": 12,
     "metadata": {},
     "output_type": "execute_result"
    }
   ],
   "source": [
    "kmean.centroids"
   ]
  },
  {
   "cell_type": "code",
   "execution_count": 21,
   "id": "50ea1218-1605-4e9d-939f-397a435dbfcc",
   "metadata": {},
   "outputs": [
    {
     "data": {
      "text/plain": [
       "array([[ 1.90571667,  1.68018456],\n",
       "       [-9.74961184,  8.73300902]])"
      ]
     },
     "execution_count": 21,
     "metadata": {},
     "output_type": "execute_result"
    }
   ],
   "source": [
    "from sklearn.cluster import KMeans\n",
    "kmeans = KMeans(n_clusters=2).fit(mat)\n",
    "kmeans.predict(mat)\n",
    "compare_centroids = KMeans(n_clusters=2)\n",
    "kmeans.cluster_centers_  #cool, clusters are the same"
   ]
  },
  {
   "cell_type": "code",
   "execution_count": 9,
   "id": "290d7c4d-5f08-4f52-bfa3-c9ce7ef06034",
   "metadata": {},
   "outputs": [],
   "source": [
    "distances = cdist(mat, centroids, 'euclidean')\n",
    "distances.shape\n",
    "mat.shape\n",
    "clusters = np.array([np.argmin(i) for i in distances])\n",
    "#clusters"
   ]
  },
  {
   "cell_type": "code",
   "execution_count": 54,
   "id": "881285ab-fd78-4d42-97f5-20b5233c9899",
   "metadata": {},
   "outputs": [
    {
     "data": {
      "text/plain": [
       "4905.820736532637"
      ]
     },
     "execution_count": 54,
     "metadata": {},
     "output_type": "execute_result"
    }
   ],
   "source": [
    "sse = 0\n",
    "for point in range(distances.shape[0]):\n",
    "    sse = sse + np.square(distances[point][clusters[point]])\n",
    "    \n",
    "sse"
   ]
  },
  {
   "cell_type": "code",
   "execution_count": 22,
   "id": "f059d62f-75d8-4629-b07f-c690ef9543b3",
   "metadata": {},
   "outputs": [
    {
     "data": {
      "text/plain": [
       "array([1, 1, 1, 1, 1, 1, 1, 1, 1, 1, 1, 1, 1, 1, 1, 1, 1, 1, 1, 1, 1, 1,\n",
       "       1, 1, 1, 1, 1, 1, 1, 1, 1, 1, 1, 1, 1, 1, 1, 1, 1, 1, 1, 1, 1, 1,\n",
       "       1, 1, 1, 1, 1, 1, 1, 1, 1, 1, 1, 1, 1, 1, 1, 1, 1, 1, 1, 1, 1, 1,\n",
       "       1, 1, 1, 1, 1, 1, 1, 1, 1, 1, 1, 1, 1, 1, 1, 1, 1, 1, 1, 1, 1, 1,\n",
       "       1, 1, 1, 1, 1, 1, 1, 1, 1, 1, 1, 1, 1, 1, 1, 1, 1, 1, 1, 1, 1, 1,\n",
       "       1, 1, 1, 1, 1, 1, 1, 1, 1, 1, 1, 1, 1, 1, 1, 1, 1, 1, 1, 1, 1, 1,\n",
       "       1, 1, 1, 1, 1, 1, 1, 1, 1, 1, 1, 1, 1, 1, 1, 1, 1, 1, 1, 1, 1, 1,\n",
       "       1, 1, 1, 1, 1, 1, 1, 1, 1, 1, 1, 1, 1, 1, 0, 0, 0, 0, 0, 0, 0, 0,\n",
       "       0, 0, 0, 0, 0, 0, 0, 0, 0, 0, 0, 0, 0, 0, 0, 0, 0, 0, 0, 0, 0, 0,\n",
       "       0, 0, 0, 0, 0, 0, 0, 0, 0, 0, 0, 0, 0, 0, 0, 0, 0, 0, 0, 0, 0, 0,\n",
       "       0, 0, 0, 0, 0, 0, 0, 0, 0, 0, 0, 0, 0, 0, 0, 0, 0, 0, 0, 0, 0, 0,\n",
       "       0, 0, 0, 0, 0, 0, 0, 0, 0, 0, 0, 0, 0, 0, 0, 0, 0, 0, 0, 0, 0, 0,\n",
       "       0, 0, 0, 0, 0, 0, 0, 0, 0, 0, 0, 0, 0, 0, 0, 0, 0, 0, 0, 0, 0, 0,\n",
       "       0, 0, 0, 0, 0, 0, 0, 0, 0, 0, 0, 0, 0, 0, 0, 0, 0, 0, 0, 0, 0, 0,\n",
       "       0, 0, 0, 0, 0, 0, 0, 0, 0, 0, 0, 0, 0, 0, 0, 0, 0, 0, 0, 0, 0, 0,\n",
       "       0, 0, 0, 0, 0, 0, 0, 0, 0, 0, 0, 0, 0, 0, 0, 0, 0, 0, 0, 0, 0, 0,\n",
       "       0, 0, 0, 0, 0, 0, 0, 0, 0, 0, 0, 0, 0, 0, 0, 0, 0, 0, 0, 0, 0, 0,\n",
       "       0, 0, 0, 0, 0, 0, 0, 0, 0, 0, 0, 0, 0, 0, 0, 0, 0, 0, 0, 0, 0, 0,\n",
       "       0, 0, 0, 0, 0, 0, 0, 0, 0, 0, 0, 0, 0, 0, 0, 0, 0, 0, 0, 0, 0, 0,\n",
       "       0, 0, 0, 0, 0, 0, 0, 0, 0, 0, 0, 0, 0, 0, 0, 0, 0, 0, 0, 0, 0, 0,\n",
       "       0, 0, 0, 0, 0, 0, 0, 0, 0, 0, 0, 0, 0, 0, 0, 0, 0, 0, 0, 0, 0, 0,\n",
       "       0, 0, 0, 0, 0, 0, 0, 0, 0, 0, 0, 0, 0, 0, 0, 0, 0, 0, 0, 0, 0, 0,\n",
       "       0, 0, 0, 0, 0, 0, 0, 0, 0, 0, 0, 0, 0, 0, 0, 0], dtype=int32)"
      ]
     },
     "execution_count": 22,
     "metadata": {},
     "output_type": "execute_result"
    }
   ],
   "source": [
    "from sklearn.cluster import KMeans\n",
    "kmeans = KMeans(n_clusters=2).fit(mat)\n",
    "kmeans.predict(mat)"
   ]
  },
  {
   "cell_type": "code",
   "execution_count": 57,
   "id": "0c854508-9118-40ff-9d3c-84262164bffb",
   "metadata": {},
   "outputs": [
    {
     "data": {
      "text/plain": [
       "array([0., 0., 0., 0., 0., 0., 0., 0., 0., 0., 0., 0., 0., 0., 0., 0., 0.,\n",
       "       0., 0., 0., 0., 0., 0., 0., 0., 0., 0., 0., 0., 0., 0., 0., 0., 0.,\n",
       "       0., 0., 0., 0., 0., 0., 0., 0., 0., 0., 0., 0., 0., 0., 0., 0., 0.,\n",
       "       0., 0., 0., 0., 0., 0., 0., 0., 0., 0., 0., 0., 0., 0., 0., 0., 0.,\n",
       "       0., 0., 0., 0., 0., 0., 0., 0., 0., 0., 0., 0., 0., 0., 0., 0., 0.,\n",
       "       0., 0., 0., 0., 0., 0., 0., 0., 0., 0., 0., 0., 0., 0., 0., 0., 0.,\n",
       "       0., 0., 0., 0., 0., 0., 0., 0., 0., 0., 0., 0., 0., 0., 0., 0., 0.,\n",
       "       0., 0., 0., 0., 0., 0., 0., 0., 0., 0., 0., 0., 0., 0., 0., 0., 0.,\n",
       "       0., 0., 0., 0., 0., 0., 0., 0., 0., 0., 0., 0., 0., 0., 0., 0., 0.,\n",
       "       0., 0., 0., 0., 0., 0., 0., 0., 0., 0., 0., 0., 0., 0., 0., 0., 0.,\n",
       "       0., 0., 0., 0., 0., 0., 0., 0., 0., 0., 0., 0., 0., 0., 0., 0., 0.,\n",
       "       0., 0., 0., 0., 0., 0., 0., 0., 0., 0., 0., 0., 0., 0., 0., 0., 0.,\n",
       "       0., 0., 0., 0., 0., 0., 0., 0., 0., 0., 0., 0., 0., 0., 0., 0., 0.,\n",
       "       0., 0., 0., 0., 0., 0., 0., 0., 0., 0., 0., 0., 0., 0., 0., 0., 0.,\n",
       "       0., 0., 0., 0., 0., 0., 0., 0., 0., 0., 0., 0., 0., 0., 0., 0., 0.,\n",
       "       0., 0., 0., 0., 0., 0., 0., 0., 0., 0., 0., 0., 0., 0., 0., 0., 0.,\n",
       "       0., 0., 0., 0., 0., 0., 0., 0., 0., 0., 0., 0., 0., 0., 0., 0., 0.,\n",
       "       0., 0., 0., 0., 0., 0., 0., 0., 0., 0., 0., 0., 0., 0., 0., 0., 0.,\n",
       "       0., 0., 0., 0., 0., 0., 0., 0., 0., 0., 0., 0., 0., 0., 0., 0., 0.,\n",
       "       0., 0., 0., 0., 0., 0., 0., 0., 0., 0., 0., 0., 0., 0., 0., 0., 0.,\n",
       "       0., 0., 0., 0., 0., 0., 0., 0., 0., 0., 0., 0., 0., 0., 0., 0., 0.,\n",
       "       0., 0., 0., 0., 0., 0., 0., 0., 0., 0., 0., 0., 0., 0., 0., 0., 0.,\n",
       "       0., 0., 0., 0., 0., 0., 0., 0., 0., 0., 0., 0., 0., 0., 0., 0., 0.,\n",
       "       0., 0., 0., 0., 0., 0., 0., 0., 0., 0., 0., 0., 0., 0., 0., 0., 0.,\n",
       "       0., 0., 0., 0., 0., 0., 0., 0., 0., 0., 0., 0., 0., 0., 0., 0., 0.,\n",
       "       0., 0., 0., 0., 0., 0., 0., 0., 0., 0., 0., 0., 0., 0., 0., 0., 0.,\n",
       "       0., 0., 0., 0., 0., 0., 0., 0., 0., 0., 0., 0., 0., 0., 0., 0., 0.,\n",
       "       0., 0., 0., 0., 0., 0., 0., 0., 0., 0., 0., 0., 0., 0., 0., 0., 0.,\n",
       "       0., 0., 0., 0., 0., 0., 0., 0., 0., 0., 0., 0., 0., 0., 0., 0., 0.,\n",
       "       0., 0., 0., 0., 0., 0., 0.])"
      ]
     },
     "execution_count": 57,
     "metadata": {},
     "output_type": "execute_result"
    }
   ],
   "source": [
    "# test silouette scores\n",
    "score = Silhouette().score(X=mat, y=pred)\n",
    "\n",
    "score"
   ]
  },
  {
   "cell_type": "code",
   "execution_count": 3,
   "id": "f64aee8b-5873-448d-9645-482137c55c32",
   "metadata": {},
   "outputs": [],
   "source": [
    "mat, labels = make_clusters(k=4, scale=1)"
   ]
  },
  {
   "cell_type": "code",
   "execution_count": 95,
   "id": "ee509749-4ea9-4f55-98a8-2159b23205de",
   "metadata": {},
   "outputs": [
    {
     "data": {
      "text/plain": [
       "array([[-5.29167043, -0.5010371 ],\n",
       "       [ 8.90376386,  3.92500241],\n",
       "       [ 6.81594128, -4.17595472],\n",
       "       [ 7.49425701, -2.46738379]])"
      ]
     },
     "execution_count": 95,
     "metadata": {},
     "output_type": "execute_result"
    }
   ],
   "source": [
    "# get k random observations from the matrix as our starting centroids\n",
    "centroids = mat[np.random.choice(clusters.shape[0], 4, replace = False)] # this is a np.array\n",
    "# initialize iterations\n",
    "iterations = 0\n",
    "# initialize new_error and error change to a very large value\n",
    "new_error = 10000\n",
    "delta_loss = 1000\n",
    "\n",
    "while iterations < 100 and delta_loss > 1e-6:\n",
    "    distances = cdist(mat, centroids, 'euclidean')\n",
    "    clusters = np.array([np.argmin(i) for i in distances])\n",
    "    centroids = np.empty(centroids.shape)\n",
    "    # for each label\n",
    "    for i in range(4):\n",
    "        centroids[i] = np.mean(mat[clusters == i], axis=0)\n",
    "    sse = 0\n",
    "    for point in range(distances.shape[0]):\n",
    "        sse = sse + np.square(distances[point][clusters[point]])\n",
    "    \n",
    "    error = sse/distances.shape[0]\n",
    "    delta_loss = np.abs(new_error - error)\n",
    "    if new_error > error:\n",
    "        break\n",
    "    else:\n",
    "        new_error = error\n",
    "    iterations += 1\n",
    "    \n",
    "centroids"
   ]
  },
  {
   "cell_type": "code",
   "execution_count": 90,
   "id": "f35a8bf1-0b12-4ab9-a905-01cc1e7d5ae8",
   "metadata": {},
   "outputs": [
    {
     "data": {
      "text/plain": [
       "array([[ 8.90376386,  3.92500241],\n",
       "       [-3.99311493, -2.32043301],\n",
       "       [ 6.98552022, -3.74881199],\n",
       "       [-6.54833704,  1.25966862]])"
      ]
     },
     "execution_count": 90,
     "metadata": {},
     "output_type": "execute_result"
    }
   ],
   "source": [
    "from sklearn.cluster import KMeans\n",
    "kmeans = KMeans(n_clusters=4).fit(mat)\n",
    "kmeans.cluster_centers_\n"
   ]
  },
  {
   "cell_type": "code",
   "execution_count": 61,
   "id": "f5083db0-b600-4fb2-99a7-6f6f7e91f1f5",
   "metadata": {},
   "outputs": [
    {
     "data": {
      "text/plain": [
       "array([[14.9741462 , 12.76381582,  1.96149942,  0.33358171],\n",
       "       [14.79521847, 12.64431522,  2.14524809,  0.61772432],\n",
       "       [15.890736  , 13.36966462,  1.45515712,  1.22756062],\n",
       "       ...,\n",
       "       [ 2.15563636,  2.13822606, 13.78932402, 14.57963171],\n",
       "       [ 0.12588821,  3.91536504, 14.52194353, 15.08519925],\n",
       "       [ 2.04180207,  4.52645329, 16.10201655, 16.80535062]])"
      ]
     },
     "execution_count": 61,
     "metadata": {},
     "output_type": "execute_result"
    }
   ],
   "source": [
    "distances"
   ]
  },
  {
   "cell_type": "code",
   "execution_count": 55,
   "id": "daf29283-c0b9-4626-8798-dabbb1e6f748",
   "metadata": {},
   "outputs": [
    {
     "data": {
      "text/plain": [
       "array([0, 0, 0, 0, 0, 0, 0, 0, 0, 0, 0, 0, 0, 0, 0, 0, 0, 0, 0, 0, 0, 0,\n",
       "       0, 0, 0, 0, 0, 0, 0, 0, 0, 0, 0, 0, 0, 0, 0, 0, 0, 0, 0, 0, 0, 0,\n",
       "       0, 0, 0, 0, 0, 0, 0, 0, 0, 0, 0, 0, 0, 0, 0, 0, 0, 0, 0, 0, 0, 0,\n",
       "       0, 0, 0, 0, 0, 0, 0, 0, 0, 0, 0, 0, 0, 0, 0, 0, 0, 0, 0, 0, 0, 0,\n",
       "       0, 0, 0, 0, 0, 0, 0, 0, 0, 0, 0, 0, 0, 0, 0, 0, 0, 0, 0, 0, 0, 0,\n",
       "       0, 0, 0, 0, 0, 0, 0, 0, 0, 0, 0, 0, 0, 0, 0, 0, 0, 0, 0, 0, 0, 0,\n",
       "       0, 0, 0, 0, 0, 0, 0, 0, 0, 0, 0, 0, 0, 0, 0, 0, 0, 0, 0, 0, 0, 0,\n",
       "       0, 0, 0, 0, 0, 0, 0, 0, 0, 0, 0, 0, 0, 0, 1, 1, 1, 1, 1, 2, 1, 1,\n",
       "       1, 1, 1, 1, 1, 1, 1, 1, 1, 1, 1, 1, 1, 1, 1, 1, 1, 1, 1, 1, 1, 1,\n",
       "       1, 1, 1, 1, 2, 1, 1, 1, 1, 1, 1, 1, 1, 1, 1, 1, 1, 1, 1, 2, 1, 1,\n",
       "       1, 1, 1, 1, 1, 1, 1, 1, 1, 1, 1, 2, 1, 1, 1, 1, 1, 1, 1, 2, 1, 1,\n",
       "       1, 1, 1, 1, 1, 1, 1, 1, 1, 1, 1, 1, 1, 1, 1, 1, 1, 1, 1, 1, 1, 1,\n",
       "       1, 1, 1, 1, 1, 1, 1, 2, 1, 1, 1, 1, 1, 2, 1, 1, 1, 1, 2, 1, 1, 2,\n",
       "       1, 1, 1, 1, 1, 1, 1, 1, 1, 1, 1, 1, 2, 1, 1, 2, 1, 1, 1, 1, 1, 1,\n",
       "       1, 2, 1, 1, 1, 1, 1, 1, 1, 1, 1, 1, 1, 1, 1, 1, 1, 1, 1, 1, 1, 1,\n",
       "       1, 1, 1, 1, 1, 2, 3, 3, 3, 2, 3, 3, 3, 2, 2, 2, 3, 3, 2, 2, 3, 3,\n",
       "       3, 3, 3, 3, 3, 2, 2, 2, 2, 3, 2, 3, 3, 3, 3, 3, 3, 3, 3, 2, 3, 3,\n",
       "       3, 3, 3, 2, 3, 2, 2, 3, 3, 3, 3, 3, 3, 2, 3, 3, 2, 3, 2, 2, 3, 1,\n",
       "       2, 2, 3, 3, 3, 3, 3, 3, 2, 3, 2, 3, 2, 2, 3, 3, 3, 3, 3, 3, 2, 3,\n",
       "       3, 3, 2, 2, 3, 2, 2, 3, 2, 3, 3, 3, 3, 2, 3, 3, 2, 3, 3, 3, 2, 3,\n",
       "       3, 3, 3, 3, 3, 2, 3, 3, 2, 2, 2, 3, 3, 3, 3, 2, 2, 3, 3, 3, 2, 3,\n",
       "       3, 3, 2, 2, 3, 3, 3, 3, 2, 3, 3, 2, 3, 3, 2, 2, 3, 3, 2, 2, 2, 2,\n",
       "       3, 3, 3, 3, 3, 3, 2, 2, 3, 3, 3, 3, 2, 2, 3, 2])"
      ]
     },
     "execution_count": 55,
     "metadata": {},
     "output_type": "execute_result"
    }
   ],
   "source": [
    "distances = cdist(mat, centroids, 'euclidean')\n",
    "clusters = np.array([np.argmin(i) for i in distances])\n",
    "clusters"
   ]
  },
  {
   "cell_type": "code",
   "execution_count": null,
   "id": "3630c3ba-52c6-4504-854e-e204d276b610",
   "metadata": {},
   "outputs": [],
   "source": [
    "        for point in range(0, X.shape[0]):\n",
    "\n",
    "            data_point = X[point]\n",
    "            current_cluster = y[point]\n",
    "\n",
    "            # indices for points in the same cluster\n",
    "            this_cluster = np.where(y == current_cluster)[0]\n",
    "            # indices for points in the other clusters\n",
    "            other_cluster = np.where(y != current_cluster)[0]\n",
    "\n",
    "            # calculate a\n",
    "            a = []\n",
    "            for other_point in this_cluster:\n",
    "                # if its not the same point\n",
    "                if point != other_point:\n",
    "                    a.append(distances[point, other_point])\n",
    "                    print(a)\n",
    "\n",
    "            final_a = np.mean(a)"
   ]
  },
  {
   "cell_type": "code",
   "execution_count": 5,
   "id": "5da17097-4469-4c4e-b2cc-5a691563ffbd",
   "metadata": {},
   "outputs": [],
   "source": [
    "scores=[]\n",
    "X = mat\n",
    "y = labels\n",
    "# Go through each data point index\n",
    "for point in range(0, X.shape[0]):\n",
    "\n",
    "    data_point = X[point]\n",
    "    current_cluster = y[point]\n",
    "    a = []\n",
    "\n",
    "    # calculate a\n",
    "    # indices for points in the same cluster\n",
    "    this_cluster = np.where(y == current_cluster)[0]\n",
    "            # for other points within the same cluster, go through the indices\n",
    "            #for within_cluster_point in this_cluster:\n",
    "                # calculate the distance between the current point and the points within the cluster\n",
    "    for this_cluster_point in this_cluster:\n",
    "        \n",
    "        a.append(cdist(np.reshape(data_point, (-1, 2)), np.reshape(X[this_cluster_point], (-1, 2)), 'euclidean'))\n",
    "        \n",
    "    final_a = np.sum(a) / (len(this_cluster) - 1)\n",
    "\n",
    "            # calculate b\n",
    "            # initialize list\n",
    "    final_b = []\n",
    "            # for each possible classification label\n",
    "    for label in range(max(y)):\n",
    "        b = []\n",
    "                # get other points that are not in the same cluster as the current point\n",
    "        if label == current_cluster:\n",
    "            continue\n",
    "        else:\n",
    "                    # for each other label, calculate distance between current point and other label, in a list b\n",
    "            for other_cluster_point in np.where(y == label)[0]:\n",
    "                b.append(float(cdist(np.reshape(data_point, (-1, 2)), np.reshape(X[other_cluster_point], (-1, 2)), 'euclidean')))\n",
    "        final_b.append(np.average(b))\n",
    "\n",
    "            # get the minimum of the average distance values for each label, this is the final b\n",
    "    final_b = np.min(final_b)\n",
    "\n",
    "    # calculate silhouette score\n",
    "    # add score to the scores array\n",
    "    scores.append((final_b - final_a) / max(final_a, final_b))\n",
    "    \n",
    "    scores"
   ]
  },
  {
   "cell_type": "code",
   "execution_count": 10,
   "id": "af95d13c-053e-415d-afc9-5b02412e571f",
   "metadata": {},
   "outputs": [
    {
     "data": {
      "text/plain": [
       "array([[0.]])"
      ]
     },
     "execution_count": 10,
     "metadata": {},
     "output_type": "execute_result"
    }
   ],
   "source": [
    "cdist(np.reshape(data_point, (-1, 2)), np.reshape(X[this_cluster_point], (-1, 2)), 'euclidean')"
   ]
  },
  {
   "cell_type": "code",
   "execution_count": 73,
   "id": "e4422dc6-bd19-461c-9f0f-1fad18546611",
   "metadata": {},
   "outputs": [
    {
     "data": {
      "text/plain": [
       "array([[7.13010175, 4.36107067]])"
      ]
     },
     "execution_count": 73,
     "metadata": {},
     "output_type": "execute_result"
    }
   ],
   "source": [
    "np.reshape(X[point], (-1, 2))"
   ]
  },
  {
   "cell_type": "code",
   "execution_count": 44,
   "id": "73100af5-ae59-44a1-beda-40d903f8b923",
   "metadata": {},
   "outputs": [
    {
     "data": {
      "text/plain": [
       "array([[1.96702606]])"
      ]
     },
     "execution_count": 44,
     "metadata": {},
     "output_type": "execute_result"
    }
   ],
   "source": [
    "b = []\n",
    "final_b = []\n",
    "for label in range(max(np.unique(y))):\n",
    "    if label != current_cluster:\n",
    "        for other_cluster_point in np.where(y == label)[0]:\n",
    "            #if other_cluster_point != data_point:\n",
    "            b.append(cdist(np.reshape(data_point, (-1, 2)), np.reshape(X[other_cluster_point], (-1, 2)), 'euclidean'))\n",
    "    final_b = np.mean(b)\n",
    "        \n",
    "final_b = min(b)\n",
    "\n",
    "final_b\n",
    "\n",
    "# for each label that's not the same as the label as the current point:\n",
    "# claculate average distance to all the other points with each other label\n",
    "# between the average distances for each other label, get the minimum as b"
   ]
  },
  {
   "cell_type": "code",
   "execution_count": null,
   "id": "bee78b85-add8-49f4-b8a6-9c2307f8a4cf",
   "metadata": {},
   "outputs": [],
   "source": []
  }
 ],
 "metadata": {
  "kernelspec": {
   "display_name": "Python 3 (ipykernel)",
   "language": "python",
   "name": "python3"
  },
  "language_info": {
   "codemirror_mode": {
    "name": "ipython",
    "version": 3
   },
   "file_extension": ".py",
   "mimetype": "text/x-python",
   "name": "python",
   "nbconvert_exporter": "python",
   "pygments_lexer": "ipython3",
   "version": "3.9.7"
  }
 },
 "nbformat": 4,
 "nbformat_minor": 5
}
